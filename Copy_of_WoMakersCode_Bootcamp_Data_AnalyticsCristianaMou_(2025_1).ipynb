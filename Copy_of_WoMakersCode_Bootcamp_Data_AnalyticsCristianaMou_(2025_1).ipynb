{
  "nbformat": 4,
  "nbformat_minor": 0,
  "metadata": {
    "colab": {
      "provenance": [],
      "include_colab_link": true
    },
    "kernelspec": {
      "name": "python3",
      "display_name": "Python 3"
    },
    "language_info": {
      "name": "python"
    }
  },
  "cells": [
    {
      "cell_type": "markdown",
      "metadata": {
        "id": "view-in-github",
        "colab_type": "text"
      },
      "source": [
        "<a href=\"https://colab.research.google.com/github/CristianaMoura/DIO-GFT-QA-Para-Mulheres/blob/main/Copy_of_WoMakersCode_Bootcamp_Data_AnalyticsCristianaMou_(2025_1).ipynb\" target=\"_parent\"><img src=\"https://colab.research.google.com/assets/colab-badge.svg\" alt=\"Open In Colab\"/></a>"
      ]
    },
    {
      "cell_type": "markdown",
      "source": [
        "DESAFIO 1\n",
        "\n",
        "Crie um programa que solicita ao usuário que insira três notas (valores de 0 a 10) e, em seguida, calcule e exiba a média dessas notas.\n",
        "\n",
        "Além disso, informe ao usuário se ele foi aprovado ou reprovado com base na média das notas, considerando a média mínima de aprovação como 6."
      ],
      "metadata": {
        "id": "fZu819fMQNKI"
      }
    },
    {
      "cell_type": "code",
      "source": [
        "#Execute seu código aqui\n",
        "nota1 = float(input(\"Digite a primeira nota (0 a 10): \"))\n",
        "nota2 = float(input(\"Digite a segunda nota (0 a 10): \"))\n",
        "nota3 = float(input(\"Digite a terceira nota (0 a 10): \"))\n",
        "\n",
        "media = (nota1 + nota2 + nota3) / 3\n",
        "print(f\"A média das notas é: {media:.2f}\")\n",
        "\n",
        "if media >= 6:\n",
        "    print(\"Você foi aprovado!\")\n",
        "else:\n",
        "    print(\"Você foi reprovado.\")"
      ],
      "metadata": {
        "id": "tjM2VWBwQSJE",
        "outputId": "70a30d5f-1a7a-44a3-93bf-8f3fa3ae5ea1",
        "colab": {
          "base_uri": "https://localhost:8080/"
        }
      },
      "execution_count": null,
      "outputs": [
        {
          "output_type": "stream",
          "name": "stdout",
          "text": [
            "Digite a primeira nota (0 a 10): 5\n",
            "Digite a segunda nota (0 a 10): 10\n",
            "Digite a terceira nota (0 a 10): 3\n",
            "A média das notas é: 6.00\n",
            "Você foi aprovado!\n"
          ]
        }
      ]
    },
    {
      "cell_type": "markdown",
      "source": [
        "DESAFIO 2\n",
        "\n",
        "Escreva um programa que receba uma string e conte quantas vogais (a, e, i, o, u) ela contém."
      ],
      "metadata": {
        "id": "_m8mBod2g9Iv"
      }
    },
    {
      "cell_type": "code",
      "source": [
        "#Execute seu código aqui\n",
        "\n",
        "nome = input(\"Digite seu nome: \").lower()\n",
        "vogais = \"aeiou\"\n",
        "contador = 0\n",
        "\n",
        "for letra in nome:\n",
        "    if letra in vogais:\n",
        "        contador += 1\n",
        "\n",
        "print(f\"A string contém {contador} vogais.\")"
      ],
      "metadata": {
        "id": "G3MkSdjIfMay",
        "colab": {
          "base_uri": "https://localhost:8080/"
        },
        "outputId": "0d924c3c-331b-45a2-defc-8d765b2a7423"
      },
      "execution_count": null,
      "outputs": [
        {
          "output_type": "stream",
          "name": "stdout",
          "text": [
            "Digite seu nome: Cristiana\n",
            "A string contém 4 vogais.\n"
          ]
        }
      ]
    },
    {
      "cell_type": "code",
      "source": [],
      "metadata": {
        "id": "fXiGejd3nJOq"
      },
      "execution_count": null,
      "outputs": []
    },
    {
      "cell_type": "markdown",
      "source": [
        "DESAFIO 3\n",
        "\n",
        "Escreva um programa em que o computador escolhe um número aleatório entre 1 e 100 e o usuário tenta adivinhar. O programa deve informar se o palpite é muito alto, muito baixo ou correto."
      ],
      "metadata": {
        "id": "azEJl_Q6cFFz"
      }
    },
    {
      "cell_type": "code",
      "source": [
        "#Execute seu código aqui\n",
        "\n",
        "import random\n",
        "\n",
        "numero_aleatorio = random.randint(1, 100)\n",
        "palpite = int(input(\"Digite seu palpite: \"))\n",
        "\n",
        "while palpite != numero_aleatorio:\n",
        "    if palpite > numero_aleatorio:\n",
        "        print(\"Palpite muito alto!\")\n",
        "    else:\n",
        "        print(\"Palpite muito baixo!\")\n",
        "\n",
        "    palpite = int(input(\"Digite seu palpite: \"))\n",
        "\n",
        "    if palpite == numero_aleatorio:\n",
        "        print(\"Parabéns, você acertou!\")\n",
        "        break\n",
        "\n"
      ],
      "metadata": {
        "id": "4kz8g_Z5qGB1",
        "colab": {
          "base_uri": "https://localhost:8080/"
        },
        "outputId": "d67e8ecb-cc81-45a3-c7e3-357c7749b698"
      },
      "execution_count": null,
      "outputs": [
        {
          "output_type": "stream",
          "name": "stdout",
          "text": [
            "Digite seu palpite: 6\n",
            "Palpite muito baixo!\n",
            "Digite seu palpite: 99\n",
            "Palpite muito alto!\n",
            "Digite seu palpite: 78\n",
            "Palpite muito alto!\n",
            "Digite seu palpite: 50\n",
            "Palpite muito baixo!\n",
            "Digite seu palpite: 55\n",
            "Palpite muito baixo!\n",
            "Digite seu palpite: 58\n",
            "Palpite muito baixo!\n",
            "Digite seu palpite: 60\n",
            "Palpite muito alto!\n",
            "Digite seu palpite: 58\n",
            "Palpite muito baixo!\n",
            "Digite seu palpite: 59\n",
            "Parabéns, você acertou!\n"
          ]
        }
      ]
    },
    {
      "cell_type": "markdown",
      "source": [
        "DESAFIO 4\n",
        "\n",
        "Crie um programa que permita ao usuário gerenciar suas tarefas diárias. O programa deve oferecer as seguintes funcionalidades:\n",
        "\n",
        "Adicionar uma nova tarefa;\n",
        "\n",
        "Visualizar todas as tarefas;\n",
        "\n",
        "Remover uma tarefa;\n",
        "\n",
        "Sair do programa.\n",
        "\n",
        "(Você pode implementar essas funcionalidades usando listas para armazenar as tarefas e estruturas de controle como loops e condicionais para interagir com o usuário.)"
      ],
      "metadata": {
        "id": "qk4Gw-GAqFjY"
      }
    },
    {
      "cell_type": "code",
      "source": [
        "#Execute seu código aqui\n",
        "\n",
        "tarefas = []\n",
        "\n",
        "while True:\n",
        "    print(\"\\nEscolha uma opção:\")\n",
        "    print(\"1. Adicionar tarefa\")\n",
        "    print(\"2. Visualizar tarefas\")\n",
        "    print(\"3. Remover tarefa\")\n",
        "    print(\"4. Sair\")\n",
        "\n",
        "    opcao = input(\"Digite o número da opção desejada: \")\n",
        "\n",
        "    if opcao == \"1\":\n",
        "        tarefa = input(\"Digite a nova tarefa: \")\n",
        "        tarefas.append(tarefa)\n",
        "        print(\"Tarefa adicionada com sucesso!\")\n",
        "\n",
        "    elif opcao == \"2\":\n",
        "        print(\"Tarefas:\")\n",
        "        for tarefa in tarefas:\n",
        "            print(\"- \" + tarefa)\n",
        "\n",
        "    elif opcao == \"3\":\n",
        "        tarefa = input(\"Digite a tarefa que deseja remover: \")\n",
        "        if tarefa in tarefas:\n",
        "            tarefas.remove(tarefa)\n",
        "            print(\"Tarefa removida com sucesso!\")\n",
        "\n",
        "        else:\n",
        "            print(\"Tarefa não encontrada.\")\n",
        "\n",
        "    elif opcao == \"4\":\n",
        "        print(\"Saindo do programa...\")\n",
        "        break\n",
        "\n",
        "    else:\n",
        "        print(\"Opção inválida. Por favor, escolha uma opção válida.\")\n"
      ],
      "metadata": {
        "id": "FOtsBTYecOUJ",
        "colab": {
          "base_uri": "https://localhost:8080/"
        },
        "outputId": "2e050a80-b033-4a2e-9ca9-c76cd3c41c16"
      },
      "execution_count": null,
      "outputs": [
        {
          "output_type": "stream",
          "name": "stdout",
          "text": [
            "\n",
            "Escolha uma opção:\n",
            "1. Adicionar tarefa\n",
            "2. Visualizar tarefas\n",
            "3. Remover tarefa\n",
            "4. Sair\n",
            "Digite o número da opção desejada: 5\n",
            "Opção inválida. Por favor, escolha uma opção válida.\n",
            "\n",
            "Escolha uma opção:\n",
            "1. Adicionar tarefa\n",
            "2. Visualizar tarefas\n",
            "3. Remover tarefa\n",
            "4. Sair\n",
            "Digite o número da opção desejada: 4\n",
            "Saindo do programa...\n"
          ]
        }
      ]
    },
    {
      "cell_type": "markdown",
      "source": [
        "DESAFIO 5\n",
        "\n",
        "Escreva um programa em Python que funcione como uma calculadora simples. Ele deve pedir ao usuário para inserir dois números e, em seguida, solicitar a operação que deseja realizar (adição, subtração, multiplicação ou divisão)."
      ],
      "metadata": {
        "id": "cpVCv8m5QNm9"
      }
    },
    {
      "cell_type": "code",
      "source": [
        "#Execute seu código aqui\n",
        "\n",
        "num1 = float(input(\"Digite o primeiro número: \"))\n",
        "num2 = float(input(\"Digite o segundo número: \"))\n",
        "\n",
        "print(\"Escolha a operação:\")\n",
        "print(\"1. Adição\")\n",
        "print(\"2. Subtração\")\n",
        "print(\"3. Multiplicação\")\n",
        "print(\"4. Divisão\")\n",
        "print(\"5. Sair\")\n",
        "\n",
        "operacao = input(\"Digite o número da operação desejada: \")\n",
        "\n",
        "if operacao == \"1\":\n",
        "    resultado = num1 + num2\n",
        "    print(f\"O resultado da adição é: {resultado}\")\n",
        "\n",
        "if operacao == \"2\":\n",
        "    resultado = num1 - num2\n",
        "    print(f\"O resultado da subtração é: {resultado}\")\n",
        "\n",
        "if operacao == \"3\":\n",
        "    resultado = num1 * num2\n",
        "    print(f\"O resultado da multiplicação é: {resultado}\")\n",
        "\n",
        "if operacao == \"4\":\n",
        "    resultado = num1 / num2\n",
        "    print(f\"O resultado da divisão é: {resultado}\")\n",
        "\n",
        "if operacao == \"5\":\n",
        "    print(\"Saindo do programa...\")\n",
        "\n",
        "else:\n",
        "    print(\"Opção inválida. Por favor, escolha uma opção válida.\")\n"
      ],
      "metadata": {
        "id": "rGHbvDFVcGzy",
        "colab": {
          "base_uri": "https://localhost:8080/"
        },
        "outputId": "e57e797f-a9d1-4b34-d64e-ff759cef5f32"
      },
      "execution_count": null,
      "outputs": [
        {
          "output_type": "stream",
          "name": "stdout",
          "text": [
            "Digite o primeiro número: 150\n",
            "Digite o segundo número: 5\n",
            "Escolha a operação:\n",
            "1. Adição\n",
            "2. Subtração\n",
            "3. Multiplicação\n",
            "4. Divisão\n",
            "Digite o número da operação desejada: 4\n",
            "O resultado da divisão é: 30.0\n"
          ]
        }
      ]
    }
  ]
}